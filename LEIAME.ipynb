{
 "cells": [
  {
   "cell_type": "markdown",
   "id": "2a5f5b61-01c3-4ae6-acc6-e87d2afbecd3",
   "metadata": {},
   "source": [
    "# Vibrações Mecânicas\n",
    "Professor Paulo Victor <br>\n",
    "e-mail: paulo.gomes@cefet-rj.br <br>\n",
    "CEFET/RJ Campus Angra dos Reis - Sala 17C"
   ]
  },
  {
   "cell_type": "markdown",
   "id": "ba9c1da2-763c-453d-bccf-043e21d3964b",
   "metadata": {},
   "source": [
    "## Ementa: \n",
    "\n",
    "1. [Introdução aos conceitos básicos de vibrações](Vibs1.ipynb)\n",
    "2. [Vibração livre de sistemas de um grau de liberdade](Vibs2.ipynb)\n",
    "3. [Vibrações com forçamento harmônico](Vibs3.ipynb)\n",
    "4. [Vibração sob condições gerais de forçamento](Vibs4.ipynb)\n",
    "5. [Sistemas com dois graus de liberdade](Vibs5.ipynb)"
   ]
  },
  {
   "cell_type": "markdown",
   "id": "e6508609-60ad-4ed9-845c-fbec1f045c8c",
   "metadata": {},
   "source": [
    "## Objetivos:\n",
    "\n",
    "* Capacitar os alunos a analisar teoricamente e experimentalmente problemas de vibrações de sistemas mecânicos."
   ]
  },
  {
   "cell_type": "markdown",
   "id": "d31c41a6-80a7-4fda-8a8f-ae25c67e1e17",
   "metadata": {},
   "source": [
    "## Bibliografia Recomendada:\n",
    "\n",
    "1. RAO, S. Vibrações Mecânicas. 4ª Ed. Ed. Pearson, 2009.\n",
    "2. RIPPER NETO, A. P. Vibrações Mecânicas. Rio de Janeiro: UFRJ, 2007.\n",
    "3. BALACHANDRAN, BALAKUMAR; MAGREB, EDWARD B. Vibrações Mecânicas. Ed. Cengage CTP, 2011"
   ]
  },
  {
   "cell_type": "markdown",
   "id": "398e0191-bc13-49fb-aeaf-e3fd17da7f65",
   "metadata": {},
   "source": [
    "## Forma de Avaliação:\n",
    "\n",
    "1. P1 →  Prova (7 pontos) + Trabalho em duplas (3 pontos)  \n",
    "2. P2 →  Prova (7 pontos) + Trabalho em duplas (3 pontos)  \n",
    "3. Prova Final (em caso de 3.0 $\\leq$ Média $<$ 7.0)"
   ]
  },
  {
   "cell_type": "markdown",
   "id": "8b296fd6-3ccb-4689-98d4-7eb809b81163",
   "metadata": {},
   "source": [
    "## Datas Importantes\n",
    "* Período de Trancamento:\n",
    " > 26/02/24 a 08/03/24\n",
    "* Avaliações:\n",
    " >P1: 16/04/24 <br>\n",
    " >P2: 11/06/24 <br>\n",
    " >P3: 18/06/24"
   ]
  },
  {
   "cell_type": "markdown",
   "id": "8c26536d-4755-4c25-a361-f8a83f35b9ca",
   "metadata": {},
   "source": [
    "---\n",
    "\n",
    "[Avançar para o próximo capítulo](Vibs1.ipynb)"
   ]
  }
 ],
 "metadata": {
  "kernelspec": {
   "display_name": "Python 3 (ipykernel)",
   "language": "python",
   "name": "python3"
  },
  "language_info": {
   "codemirror_mode": {
    "name": "ipython",
    "version": 3
   },
   "file_extension": ".py",
   "mimetype": "text/x-python",
   "name": "python",
   "nbconvert_exporter": "python",
   "pygments_lexer": "ipython3",
   "version": "3.11.5"
  }
 },
 "nbformat": 4,
 "nbformat_minor": 5
}
