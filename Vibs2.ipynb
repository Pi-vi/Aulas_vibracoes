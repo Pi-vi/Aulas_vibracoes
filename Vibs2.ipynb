{
 "cells": [
  {
   "cell_type": "markdown",
   "id": "cf4c4772",
   "metadata": {},
   "source": [
    "# Vibração Livre de um Sistema de Um Grau de Liberdade\n",
    "\n",
    "Professor Paulo Victor"
   ]
  },
  {
   "cell_type": "markdown",
   "id": "ed21e154",
   "metadata": {},
   "source": [
    "---\n",
    "**Atenção:**\n",
    "\n",
    "Este material serve apenas como um guia para estudos e para as aulas, não substituindo a leitura dos livros indicados e é de uso exclusivo dos alunos do CEFET/RJ campus Angra dos Reis.\n",
    "\n",
    "---"
   ]
  },
  {
   "cell_type": "markdown",
   "id": "c1c7d08f",
   "metadata": {},
   "source": [
    "## Sistema Massa-Mola"
   ]
  },
  {
   "cell_type": "markdown",
   "id": "3e77cddf",
   "metadata": {},
   "source": [
    "![](figuras/fig2-1.png)"
   ]
  },
  {
   "cell_type": "markdown",
   "id": "82b02ee6",
   "metadata": {},
   "source": [
    "$F_m = -k x$\n",
    "\n",
    "$F_m = m a$\n",
    "\n",
    "$-k x = m \\ddot{x}$\n",
    "\n",
    "**Equação Diferencial de Movimento:**\n",
    "\n",
    "$m \\ddot{x} + k x = 0 $\n",
    "\n",
    "$C.I. \\rightarrow \\left\\{ \\begin{array} x(0) = x_0 \\\\ \\dot{x}(0) = v_0 \\end{array} \\right.$\n"
   ]
  },
  {
   "cell_type": "markdown",
   "id": "0e4cdb13",
   "metadata": {},
   "source": [
    "Resolvendo esta EDO..."
   ]
  },
  {
   "cell_type": "code",
   "execution_count": 1,
   "id": "17da6035",
   "metadata": {},
   "outputs": [],
   "source": [
    "from sympy import *"
   ]
  },
  {
   "cell_type": "code",
   "execution_count": 2,
   "id": "1eb0cd69",
   "metadata": {},
   "outputs": [],
   "source": [
    "t = symbols('t')\n",
    "m,k = symbols('m k',positive = True)\n",
    "x0,v0 = symbols('x0 v0')\n",
    "x = Function('x')(t)"
   ]
  },
  {
   "cell_type": "code",
   "execution_count": 3,
   "id": "070b0771",
   "metadata": {},
   "outputs": [
    {
     "data": {
      "text/latex": [
       "$\\displaystyle k x{\\left(t \\right)} + m \\frac{d^{2}}{d t^{2}} x{\\left(t \\right)} = 0$"
      ],
      "text/plain": [
       "Eq(k*x(t) + m*Derivative(x(t), (t, 2)), 0)"
      ]
     },
     "execution_count": 3,
     "metadata": {},
     "output_type": "execute_result"
    }
   ],
   "source": [
    "EDM = Eq(m*x.diff(t,2) + k*x,0)\n",
    "EDM"
   ]
  },
  {
   "cell_type": "code",
   "execution_count": 4,
   "id": "e75d91c1",
   "metadata": {},
   "outputs": [
    {
     "data": {
      "text/latex": [
       "$\\displaystyle x{\\left(t \\right)} = C_{1} \\sin{\\left(\\frac{\\sqrt{k} t}{\\sqrt{m}} \\right)} + C_{2} \\cos{\\left(\\frac{\\sqrt{k} t}{\\sqrt{m}} \\right)}$"
      ],
      "text/plain": [
       "Eq(x(t), C1*sin(sqrt(k)*t/sqrt(m)) + C2*cos(sqrt(k)*t/sqrt(m)))"
      ]
     },
     "execution_count": 4,
     "metadata": {},
     "output_type": "execute_result"
    }
   ],
   "source": [
    "sol = dsolve(EDM)\n",
    "sol"
   ]
  },
  {
   "cell_type": "markdown",
   "id": "0cfd2064",
   "metadata": {},
   "source": [
    "**Define-se:**\n",
    "\n",
    "$\\omega_n = \\sqrt{\\dfrac{k}{m}}$\n",
    "\n",
    "Onde $\\omega_n$ é chamado de **pulsação natural** ou **frequência circular natural não amortecida**."
   ]
  },
  {
   "cell_type": "code",
   "execution_count": 5,
   "id": "84fc90be",
   "metadata": {},
   "outputs": [
    {
     "data": {
      "text/latex": [
       "$\\displaystyle x{\\left(t \\right)} = C_{1} \\sin{\\left(\\omega_{n} t \\right)} + C_{2} \\cos{\\left(\\omega_{n} t \\right)}$"
      ],
      "text/plain": [
       "Eq(x(t), C1*sin(omega_n*t) + C2*cos(omega_n*t))"
      ]
     },
     "execution_count": 5,
     "metadata": {},
     "output_type": "execute_result"
    }
   ],
   "source": [
    "omega_n = symbols('omega_n')\n",
    "sol = sol.subs(sqrt(k/m),omega_n)\n",
    "sol"
   ]
  },
  {
   "cell_type": "markdown",
   "id": "1bfab28d",
   "metadata": {},
   "source": [
    "Para encontrarmos os valores de $C_1$ e $C_2$ usaremos as **condições iniciais**:\n",
    "\n",
    "$x(0) = x_0$\n",
    "\n",
    "$\\dot{x}(0) = v_0$"
   ]
  },
  {
   "cell_type": "code",
   "execution_count": 6,
   "id": "ccc08154",
   "metadata": {},
   "outputs": [
    {
     "data": {
      "text/latex": [
       "$\\displaystyle x_{0} = C_{2}$"
      ],
      "text/plain": [
       "Eq(x0, C2)"
      ]
     },
     "execution_count": 6,
     "metadata": {},
     "output_type": "execute_result"
    }
   ],
   "source": [
    "CI_1 = Eq(x0,sol.rhs.subs(t,0))\n",
    "CI_1"
   ]
  },
  {
   "cell_type": "code",
   "execution_count": 7,
   "id": "f6b89d79",
   "metadata": {},
   "outputs": [
    {
     "data": {
      "text/latex": [
       "$\\displaystyle x{\\left(t \\right)} = C_{1} \\sin{\\left(\\omega_{n} t \\right)} + x_{0} \\cos{\\left(\\omega_{n} t \\right)}$"
      ],
      "text/plain": [
       "Eq(x(t), C1*sin(omega_n*t) + x0*cos(omega_n*t))"
      ]
     },
     "execution_count": 7,
     "metadata": {},
     "output_type": "execute_result"
    }
   ],
   "source": [
    "sol = sol.subs('C2',x0)\n",
    "sol"
   ]
  },
  {
   "cell_type": "code",
   "execution_count": 8,
   "id": "09fbfaa2",
   "metadata": {},
   "outputs": [
    {
     "data": {
      "text/latex": [
       "$\\displaystyle \\frac{d}{d t} x{\\left(t \\right)} = C_{1} \\omega_{n} \\cos{\\left(\\omega_{n} t \\right)} - \\omega_{n} x_{0} \\sin{\\left(\\omega_{n} t \\right)}$"
      ],
      "text/plain": [
       "Eq(Derivative(x(t), t), C1*omega_n*cos(omega_n*t) - omega_n*x0*sin(omega_n*t))"
      ]
     },
     "execution_count": 8,
     "metadata": {},
     "output_type": "execute_result"
    }
   ],
   "source": [
    "x_ponto = sol.rhs.diff(t)\n",
    "Eq(x.diff(t),x_ponto)"
   ]
  },
  {
   "cell_type": "code",
   "execution_count": 9,
   "id": "b402cfba",
   "metadata": {},
   "outputs": [
    {
     "data": {
      "text/latex": [
       "$\\displaystyle v_{0} = C_{1} \\omega_{n}$"
      ],
      "text/plain": [
       "Eq(v0, C1*omega_n)"
      ]
     },
     "execution_count": 9,
     "metadata": {},
     "output_type": "execute_result"
    }
   ],
   "source": [
    "CI_2 = Eq(v0,x_ponto.subs(t,0))\n",
    "CI_2"
   ]
  },
  {
   "cell_type": "code",
   "execution_count": 10,
   "id": "e33922c1",
   "metadata": {},
   "outputs": [],
   "source": [
    "C1 = solve(CI_2,'C1')[0]"
   ]
  },
  {
   "cell_type": "code",
   "execution_count": 11,
   "id": "8f9fbceb",
   "metadata": {},
   "outputs": [
    {
     "data": {
      "text/latex": [
       "$\\displaystyle x{\\left(t \\right)} = x_{0} \\cos{\\left(\\omega_{n} t \\right)} + \\frac{v_{0} \\sin{\\left(\\omega_{n} t \\right)}}{\\omega_{n}}$"
      ],
      "text/plain": [
       "Eq(x(t), x0*cos(omega_n*t) + v0*sin(omega_n*t)/omega_n)"
      ]
     },
     "execution_count": 11,
     "metadata": {},
     "output_type": "execute_result"
    }
   ],
   "source": [
    "sol = sol.subs('C1',C1)\n",
    "sol"
   ]
  },
  {
   "cell_type": "markdown",
   "id": "d0ae2ee6",
   "metadata": {},
   "source": [
    "Logo, com esta equação, podemos obter a resposta, $x(t)$, do sistema para qualquer instante de tempo. \n",
    "\n",
    "$x{\\left(t \\right)} = x_{0} \\cos{\\left(\\omega_{n} t \\right)} + \\frac{v_{0} \\sin{\\left(\\omega_{n} t \\right)}}{\\omega_{n}}$"
   ]
  },
  {
   "cell_type": "markdown",
   "id": "61b0474e",
   "metadata": {},
   "source": [
    "Podemos escrever esta equação de outra forma: \n",
    "\n",
    "$x(t) = X_0 sen(\\omega_n t + \\phi)$\n",
    "\n",
    "onde, $X_0 = \\sqrt{x_0^2 + \\left(\\dfrac{v_0}{\\omega_n} \\right)^2}$\n",
    "\n",
    "e $tg \\phi = \\dfrac{\\omega_n x_0}{v_0}$"
   ]
  },
  {
   "cell_type": "markdown",
   "id": "eda14726",
   "metadata": {},
   "source": [
    "**Observação:**\n",
    "\n",
    "Utilizando $\\omega_n = \\sqrt{\\dfrac{k}{m}}$ podemos reescrever a equação de movimento como: \n",
    "\n",
    "$\\ddot{x} + \\omega_n^2 x = 0 $"
   ]
  },
  {
   "cell_type": "markdown",
   "id": "86c65a68",
   "metadata": {},
   "source": [
    "## Obtenção das Equações de Movimento pelo Método de Lagrange para Sistemas Conservativos"
   ]
  },
  {
   "cell_type": "markdown",
   "id": "298c238d",
   "metadata": {},
   "source": [
    "**Coordenadas Generalizadas:**\n",
    "\n",
    "A determinação da configuração do sistema se faz por meio de um conjunto de funções escalares do tempo, $q_1(t)$, $q_2(t)$, $q_n(t)$ denominadas coordenadas generalizadas. "
   ]
  },
  {
   "cell_type": "markdown",
   "id": "be76fed9",
   "metadata": {},
   "source": [
    "Energia Cinética $\\rightarrow$ $T$\n",
    "\n",
    "![](figuras/fig2-2.png)\n",
    "![](figuras/fig2-3.png)"
   ]
  },
  {
   "cell_type": "markdown",
   "id": "ff84a99d",
   "metadata": {},
   "source": [
    "Energia Potencial $\\rightarrow$ $U$\n",
    "\n",
    "![](figuras/fig2-4.png)"
   ]
  },
  {
   "cell_type": "markdown",
   "id": "520112f9",
   "metadata": {},
   "source": [
    "**Lagrangeano:**\n",
    "\n",
    "$\\mathscr{L} = T - U$\n",
    "\n",
    "Equação de Lagrange para sistemas consevativos:\n",
    "\n",
    "$\\dfrac{d}{dt}\\left( \\dfrac{\\partial \\mathscr{L}}{\\partial \\dot{q}_i}\\right) - \\dfrac{\\partial \\mathscr{L}}{\\partial q_i} = 0 \\qquad i = 1,2,...,n$"
   ]
  },
  {
   "cell_type": "markdown",
   "id": "a58a3db3",
   "metadata": {},
   "source": [
    "### Exemplo 1:\n",
    "\n",
    "Obtenha a frequência angular, $\\omega_n$ do seguinte sistema mecânico e um gráfico do deslocamento em função do tempo para as seguintes condições iniciais: $\\theta(0) = \\pi/6$ e $\\dot{\\theta}(0) = 0$.\n",
    "\n",
    "Dados: \n",
    "\n",
    "Raio = 0.2m\n",
    "\n",
    "Massa do bloco = 0.5kg\n",
    "\n",
    "Massa do disco = 0.5kg\n",
    "\n",
    "Rigidez da mola = 1000N/m\n",
    "\n",
    "![](figuras/fig2-5.png)"
   ]
  },
  {
   "cell_type": "code",
   "execution_count": 12,
   "id": "d192bae1",
   "metadata": {},
   "outputs": [],
   "source": [
    "m,I,k,R = symbols('m I k R',positive = True)\n",
    "t = symbols('t')\n",
    "theta = Function('theta')(t)"
   ]
  },
  {
   "cell_type": "markdown",
   "id": "b0c61a88",
   "metadata": {},
   "source": [
    "Considerando que:\n",
    "\n",
    "$x = R \\theta$"
   ]
  },
  {
   "cell_type": "code",
   "execution_count": 13,
   "id": "6cfe54e5",
   "metadata": {},
   "outputs": [
    {
     "data": {
      "text/latex": [
       "$\\displaystyle \\frac{I \\left(\\frac{d}{d t} \\theta{\\left(t \\right)}\\right)^{2}}{2} + \\frac{R^{2} m \\left(\\frac{d}{d t} \\theta{\\left(t \\right)}\\right)^{2}}{2}$"
      ],
      "text/plain": [
       "I*Derivative(theta(t), t)**2/2 + R**2*m*Derivative(theta(t), t)**2/2"
      ]
     },
     "execution_count": 13,
     "metadata": {},
     "output_type": "execute_result"
    }
   ],
   "source": [
    "T = m*(R*theta.diff(t))**2/2 + I*(theta.diff(t))**2/2\n",
    "T"
   ]
  },
  {
   "cell_type": "code",
   "execution_count": 14,
   "id": "8e9cbc5a",
   "metadata": {},
   "outputs": [
    {
     "data": {
      "text/latex": [
       "$\\displaystyle \\frac{R^{2} k \\theta^{2}{\\left(t \\right)}}{2}$"
      ],
      "text/plain": [
       "R**2*k*theta(t)**2/2"
      ]
     },
     "execution_count": 14,
     "metadata": {},
     "output_type": "execute_result"
    }
   ],
   "source": [
    "U = k*(R*theta)**2/2\n",
    "U"
   ]
  },
  {
   "cell_type": "code",
   "execution_count": 15,
   "id": "9036f2fe",
   "metadata": {},
   "outputs": [
    {
     "data": {
      "text/latex": [
       "$\\displaystyle \\frac{I \\left(\\frac{d}{d t} \\theta{\\left(t \\right)}\\right)^{2}}{2} - \\frac{R^{2} k \\theta^{2}{\\left(t \\right)}}{2} + \\frac{R^{2} m \\left(\\frac{d}{d t} \\theta{\\left(t \\right)}\\right)^{2}}{2}$"
      ],
      "text/plain": [
       "I*Derivative(theta(t), t)**2/2 - R**2*k*theta(t)**2/2 + R**2*m*Derivative(theta(t), t)**2/2"
      ]
     },
     "execution_count": 15,
     "metadata": {},
     "output_type": "execute_result"
    }
   ],
   "source": [
    "L = T - U\n",
    "L"
   ]
  },
  {
   "cell_type": "code",
   "execution_count": 16,
   "id": "55a25400",
   "metadata": {
    "scrolled": true
   },
   "outputs": [
    {
     "data": {
      "text/latex": [
       "$\\displaystyle I \\frac{d^{2}}{d t^{2}} \\theta{\\left(t \\right)} + R^{2} k \\theta{\\left(t \\right)} + R^{2} m \\frac{d^{2}}{d t^{2}} \\theta{\\left(t \\right)} = 0$"
      ],
      "text/plain": [
       "Eq(I*Derivative(theta(t), (t, 2)) + R**2*k*theta(t) + R**2*m*Derivative(theta(t), (t, 2)), 0)"
      ]
     },
     "execution_count": 16,
     "metadata": {},
     "output_type": "execute_result"
    }
   ],
   "source": [
    "EDM = Eq((L.diff(theta.diff(t))).diff(t) - L.diff(theta),0)\n",
    "EDM"
   ]
  },
  {
   "cell_type": "code",
   "execution_count": 17,
   "id": "cc470992",
   "metadata": {},
   "outputs": [
    {
     "data": {
      "text/latex": [
       "$\\displaystyle \\frac{d^{2}}{d t^{2}} \\theta{\\left(t \\right)} = - \\frac{R^{2} k \\theta{\\left(t \\right)}}{I + R^{2} m}$"
      ],
      "text/plain": [
       "Eq(Derivative(theta(t), (t, 2)), -R**2*k*theta(t)/(I + R**2*m))"
      ]
     },
     "execution_count": 17,
     "metadata": {},
     "output_type": "execute_result"
    }
   ],
   "source": [
    "Eq(theta.diff(t,2),solve(EDM,theta.diff(t,2))[0])"
   ]
  },
  {
   "cell_type": "markdown",
   "id": "b1533b16",
   "metadata": {},
   "source": [
    "Logo, observa-se que:\n",
    "\n",
    "$\\omega_n = \\sqrt{\\frac{R^{2} k }{I + R^{2} m}}$"
   ]
  },
  {
   "cell_type": "markdown",
   "id": "0c8b78e2",
   "metadata": {},
   "source": [
    "Resolvendo a EDO de segunda ordem: "
   ]
  },
  {
   "cell_type": "code",
   "execution_count": 18,
   "id": "1ae87cb5",
   "metadata": {},
   "outputs": [
    {
     "data": {
      "text/latex": [
       "$\\displaystyle \\theta{\\left(t \\right)} = C_{1} \\sin{\\left(\\frac{R \\sqrt{k} t}{\\sqrt{I + R^{2} m}} \\right)} + C_{2} \\cos{\\left(\\frac{R \\sqrt{k} t}{\\sqrt{I + R^{2} m}} \\right)}$"
      ],
      "text/plain": [
       "Eq(theta(t), C1*sin(R*sqrt(k)*t/sqrt(I + R**2*m)) + C2*cos(R*sqrt(k)*t/sqrt(I + R**2*m)))"
      ]
     },
     "execution_count": 18,
     "metadata": {},
     "output_type": "execute_result"
    }
   ],
   "source": [
    "sol = dsolve(EDM)\n",
    "dsolve(EDM)"
   ]
  },
  {
   "cell_type": "code",
   "execution_count": 19,
   "id": "19d8e9cf",
   "metadata": {},
   "outputs": [
    {
     "data": {
      "text/latex": [
       "$\\displaystyle \\theta{\\left(t \\right)} = C_{1} \\sin{\\left(\\omega_{n} t \\right)} + C_{2} \\cos{\\left(\\omega_{n} t \\right)}$"
      ],
      "text/plain": [
       "Eq(theta(t), C1*sin(omega_n*t) + C2*cos(omega_n*t))"
      ]
     },
     "execution_count": 19,
     "metadata": {},
     "output_type": "execute_result"
    }
   ],
   "source": [
    "omega_n = symbols('omega_n')\n",
    "sol.subs(R*sqrt(k/(I+R**2*m)),omega_n)"
   ]
  },
  {
   "cell_type": "markdown",
   "id": "b569f6d2",
   "metadata": {},
   "source": [
    "Temos que: $\\theta(0) = \\pi/6$ e $\\dot{\\theta}(0) = 0$"
   ]
  },
  {
   "cell_type": "code",
   "execution_count": 20,
   "id": "2c73790f",
   "metadata": {},
   "outputs": [
    {
     "data": {
      "text/latex": [
       "$\\displaystyle \\frac{\\pi}{6} = C_{2}$"
      ],
      "text/plain": [
       "Eq(pi/6, C2)"
      ]
     },
     "execution_count": 20,
     "metadata": {},
     "output_type": "execute_result"
    }
   ],
   "source": [
    "CI_1 = Eq(pi/6,sol.rhs.subs(t,0))\n",
    "CI_1"
   ]
  },
  {
   "cell_type": "code",
   "execution_count": 21,
   "id": "c0fcca2b",
   "metadata": {},
   "outputs": [
    {
     "data": {
      "text/latex": [
       "$\\displaystyle \\theta{\\left(t \\right)} = C_{1} \\sin{\\left(\\frac{R \\sqrt{k} t}{\\sqrt{I + R^{2} m}} \\right)} + \\frac{\\pi \\cos{\\left(\\frac{R \\sqrt{k} t}{\\sqrt{I + R^{2} m}} \\right)}}{6}$"
      ],
      "text/plain": [
       "Eq(theta(t), C1*sin(R*sqrt(k)*t/sqrt(I + R**2*m)) + pi*cos(R*sqrt(k)*t/sqrt(I + R**2*m))/6)"
      ]
     },
     "execution_count": 21,
     "metadata": {},
     "output_type": "execute_result"
    }
   ],
   "source": [
    "sol = sol.subs('C2',pi/6)\n",
    "sol"
   ]
  },
  {
   "cell_type": "code",
   "execution_count": 22,
   "id": "f03f6980",
   "metadata": {},
   "outputs": [
    {
     "data": {
      "text/latex": [
       "$\\displaystyle 0 = \\frac{C_{1} R \\sqrt{k}}{\\sqrt{I + R^{2} m}}$"
      ],
      "text/plain": [
       "Eq(0, C1*R*sqrt(k)/sqrt(I + R**2*m))"
      ]
     },
     "execution_count": 22,
     "metadata": {},
     "output_type": "execute_result"
    }
   ],
   "source": [
    "CI_2 = Eq(0,sol.rhs.diff(t).subs(t,0))\n",
    "CI_2"
   ]
  },
  {
   "cell_type": "code",
   "execution_count": 23,
   "id": "07539b54",
   "metadata": {},
   "outputs": [
    {
     "data": {
      "text/latex": [
       "$\\displaystyle \\theta{\\left(t \\right)} = \\frac{\\pi \\cos{\\left(\\frac{R \\sqrt{k} t}{\\sqrt{I + R^{2} m}} \\right)}}{6}$"
      ],
      "text/plain": [
       "Eq(theta(t), pi*cos(R*sqrt(k)*t/sqrt(I + R**2*m))/6)"
      ]
     },
     "execution_count": 23,
     "metadata": {},
     "output_type": "execute_result"
    }
   ],
   "source": [
    "sol = sol.subs('C1',0)\n",
    "sol"
   ]
  },
  {
   "cell_type": "code",
   "execution_count": 24,
   "id": "a24bbeaa",
   "metadata": {},
   "outputs": [],
   "source": [
    "dados = {R:0.2,m:0.5,I:0.5*0.2**2/2,k:1000}"
   ]
  },
  {
   "cell_type": "code",
   "execution_count": 25,
   "id": "0e4e3f32",
   "metadata": {},
   "outputs": [
    {
     "data": {
      "text/latex": [
       "$\\displaystyle \\frac{\\pi \\cos{\\left(11.5470053837925 \\sqrt{10} t \\right)}}{6}$"
      ],
      "text/plain": [
       "pi*cos(11.5470053837925*sqrt(10)*t)/6"
      ]
     },
     "execution_count": 25,
     "metadata": {},
     "output_type": "execute_result"
    }
   ],
   "source": [
    "theta_t = sol.rhs.subs(dados)\n",
    "theta_t"
   ]
  },
  {
   "cell_type": "code",
   "execution_count": 26,
   "id": "b54c3ab1",
   "metadata": {},
   "outputs": [
    {
     "data": {
      "image/png": "[encoded data removed]",
      "text/plain": [
       "<Figure size 1000x600 with 1 Axes>"
      ]
     },
     "metadata": {},
     "output_type": "display_data"
    }
   ],
   "source": [
    "p1 = plot(theta_t,(t,0,2),show=False)\n",
    "p1.size = (10,6)\n",
    "p1.title = 'Exemplo 1'\n",
    "p1.xlabel = 'Tempo [s]'\n",
    "p1.ylabel = 'Amplitude [rad]'\n",
    "p1.show()"
   ]
  },
  {
   "cell_type": "code",
   "execution_count": null,
   "id": "06b3e2a4",
   "metadata": {},
   "outputs": [],
   "source": []
  }
 ],
 "metadata": {
  "kernelspec": {
   "display_name": "Python 3 (ipykernel)",
   "language": "python",
   "name": "python3"
  },
  "language_info": {
   "codemirror_mode": {
    "name": "ipython",
    "version": 3
   },
   "file_extension": ".py",
   "mimetype": "text/x-python",
   "name": "python",
   "nbconvert_exporter": "python",
   "pygments_lexer": "ipython3",
   "version": "3.11.4"
  }
 },
 "nbformat": 4,
 "nbformat_minor": 5
}
