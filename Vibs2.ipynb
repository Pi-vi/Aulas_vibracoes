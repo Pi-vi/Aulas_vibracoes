{
 "cells": [
  {
   "cell_type": "markdown",
   "id": "cf4c4772",
   "metadata": {},
   "source": [
    "# Vibração Livre de um Sistema de Um Grau de Liberdade\n",
    "\n",
    "Professor Paulo Victor"
   ]
  },
  {
   "cell_type": "markdown",
   "id": "ed21e154",
   "metadata": {},
   "source": [
    "---\n",
    "**Atenção:**\n",
    "\n",
    "Este material serve apenas como um guia para estudos e para as aulas, não substituindo a leitura dos livros indicados e é de uso exclusivo dos alunos do CEFET/RJ campus Angra dos Reis.\n",
    "\n",
    "---"
   ]
  },
  {
   "cell_type": "markdown",
   "id": "c1c7d08f",
   "metadata": {},
   "source": [
    "## Sistema Massa-Mola"
   ]
  },
  {
   "cell_type": "markdown",
   "id": "3e77cddf",
   "metadata": {},
   "source": [
    "![](figuras/fig2-1.png)"
   ]
  },
  {
   "cell_type": "markdown",
   "id": "82b02ee6",
   "metadata": {},
   "source": [
    "$F_m = -k x$\n",
    "\n",
    "$F_m = m a$\n",
    "\n",
    "$-k x = m \\ddot{x}$\n",
    "\n",
    "**Equação Diferencial de Movimento:**\n",
    "\n",
    "$m \\ddot{x} + k x = 0 $\n",
    "\n",
    "$C.I. \\rightarrow \\left\\{ \\begin{array} x(0) = x_0 \\\\ \\dot{x}(0) = v_0 \\end{array} \\right.$\n"
   ]
  },
  {
   "cell_type": "markdown",
   "id": "0e4cdb13",
   "metadata": {},
   "source": [
    "Resolvendo esta EDO..."
   ]
  },
  {
   "cell_type": "code",
   "execution_count": 1,
   "id": "17da6035",
   "metadata": {},
   "outputs": [],
   "source": [
    "from sympy import *"
   ]
  },
  {
   "cell_type": "code",
   "execution_count": 2,
   "id": "1eb0cd69",
   "metadata": {},
   "outputs": [],
   "source": [
    "t = symbols('t')\n",
    "m,k = symbols('m k',positive = True)\n",
    "x0,v0 = symbols('x0 v0')\n",
    "x = Function('x')(t)"
   ]
  },
  {
   "cell_type": "code",
   "execution_count": 3,
   "id": "070b0771",
   "metadata": {},
   "outputs": [
    {
     "data": {
      "text/latex": [
       "$\\displaystyle k x{\\left(t \\right)} + m \\frac{d^{2}}{d t^{2}} x{\\left(t \\right)} = 0$"
      ],
      "text/plain": [
       "Eq(k*x(t) + m*Derivative(x(t), (t, 2)), 0)"
      ]
     },
     "execution_count": 3,
     "metadata": {},
     "output_type": "execute_result"
    }
   ],
   "source": [
    "EDM = Eq(m*x.diff(t,2) + k*x,0)\n",
    "EDM"
   ]
  },
  {
   "cell_type": "code",
   "execution_count": 4,
   "id": "4e90533b",
   "metadata": {},
   "outputs": [],
   "source": [
    "x0,v0 = symbols('x0 v0')"
   ]
  },
  {
   "cell_type": "code",
   "execution_count": 5,
   "id": "e75d91c1",
   "metadata": {},
   "outputs": [
    {
     "data": {
      "text/latex": [
       "$\\displaystyle x{\\left(t \\right)} = C_{1} \\sin{\\left(\\frac{\\sqrt{k} t}{\\sqrt{m}} \\right)} + C_{2} \\cos{\\left(\\frac{\\sqrt{k} t}{\\sqrt{m}} \\right)}$"
      ],
      "text/plain": [
       "Eq(x(t), C1*sin(sqrt(k)*t/sqrt(m)) + C2*cos(sqrt(k)*t/sqrt(m)))"
      ]
     },
     "execution_count": 5,
     "metadata": {},
     "output_type": "execute_result"
    }
   ],
   "source": [
    "sol = dsolve(EDM)\n",
    "sol"
   ]
  },
  {
   "cell_type": "markdown",
   "id": "0cfd2064",
   "metadata": {},
   "source": [
    "**Define-se:**\n",
    "\n",
    "$\\omega_n = \\sqrt{\\dfrac{k}{m}}$\n",
    "\n",
    "Onde $\\omega_n$ é chamado de **pulsação natural** ou **frequência circular natural não amortecida**."
   ]
  },
  {
   "cell_type": "code",
   "execution_count": 6,
   "id": "84fc90be",
   "metadata": {},
   "outputs": [
    {
     "data": {
      "text/latex": [
       "$\\displaystyle x{\\left(t \\right)} = C_{1} \\sin{\\left(\\omega_{n} t \\right)} + C_{2} \\cos{\\left(\\omega_{n} t \\right)}$"
      ],
      "text/plain": [
       "Eq(x(t), C1*sin(omega_n*t) + C2*cos(omega_n*t))"
      ]
     },
     "execution_count": 6,
     "metadata": {},
     "output_type": "execute_result"
    }
   ],
   "source": [
    "omega_n = symbols('omega_n')\n",
    "sol = sol.subs(sqrt(k/m),omega_n)\n",
    "sol"
   ]
  },
  {
   "cell_type": "markdown",
   "id": "1bfab28d",
   "metadata": {},
   "source": [
    "Para encontrarmos os valores de $C_1$ e $C_2$ usaremos as **condições iniciais**:\n",
    "\n",
    "$x(0) = x_0$\n",
    "\n",
    "$\\dot{x}(0) = v_0$"
   ]
  },
  {
   "cell_type": "code",
   "execution_count": 7,
   "id": "ccc08154",
   "metadata": {},
   "outputs": [
    {
     "data": {
      "text/latex": [
       "$\\displaystyle x_{0} = C_{2}$"
      ],
      "text/plain": [
       "Eq(x0, C2)"
      ]
     },
     "execution_count": 7,
     "metadata": {},
     "output_type": "execute_result"
    }
   ],
   "source": [
    "CI_1 = Eq(x0,sol.rhs.subs(t,0))\n",
    "CI_1"
   ]
  },
  {
   "cell_type": "code",
   "execution_count": 8,
   "id": "f6b89d79",
   "metadata": {},
   "outputs": [
    {
     "data": {
      "text/latex": [
       "$\\displaystyle x{\\left(t \\right)} = C_{1} \\sin{\\left(\\omega_{n} t \\right)} + x_{0} \\cos{\\left(\\omega_{n} t \\right)}$"
      ],
      "text/plain": [
       "Eq(x(t), C1*sin(omega_n*t) + x0*cos(omega_n*t))"
      ]
     },
     "execution_count": 8,
     "metadata": {},
     "output_type": "execute_result"
    }
   ],
   "source": [
    "sol = sol.subs('C2',x0)\n",
    "sol"
   ]
  },
  {
   "cell_type": "code",
   "execution_count": 9,
   "id": "09fbfaa2",
   "metadata": {},
   "outputs": [
    {
     "data": {
      "text/latex": [
       "$\\displaystyle \\frac{d}{d t} x{\\left(t \\right)} = C_{1} \\omega_{n} \\cos{\\left(\\omega_{n} t \\right)} - \\omega_{n} x_{0} \\sin{\\left(\\omega_{n} t \\right)}$"
      ],
      "text/plain": [
       "Eq(Derivative(x(t), t), C1*omega_n*cos(omega_n*t) - omega_n*x0*sin(omega_n*t))"
      ]
     },
     "execution_count": 9,
     "metadata": {},
     "output_type": "execute_result"
    }
   ],
   "source": [
    "x_ponto = sol.rhs.diff(t)\n",
    "Eq(x.diff(t),x_ponto)"
   ]
  },
  {
   "cell_type": "code",
   "execution_count": 10,
   "id": "b402cfba",
   "metadata": {},
   "outputs": [
    {
     "data": {
      "text/latex": [
       "$\\displaystyle v_{0} = C_{1} \\omega_{n}$"
      ],
      "text/plain": [
       "Eq(v0, C1*omega_n)"
      ]
     },
     "execution_count": 10,
     "metadata": {},
     "output_type": "execute_result"
    }
   ],
   "source": [
    "CI_2 = Eq(v0,x_ponto.subs(t,0))\n",
    "CI_2"
   ]
  },
  {
   "cell_type": "code",
   "execution_count": 11,
   "id": "e33922c1",
   "metadata": {},
   "outputs": [],
   "source": [
    "C1 = solve(CI_2,'C1')[0]"
   ]
  },
  {
   "cell_type": "code",
   "execution_count": 12,
   "id": "8f9fbceb",
   "metadata": {},
   "outputs": [
    {
     "data": {
      "text/latex": [
       "$\\displaystyle x{\\left(t \\right)} = x_{0} \\cos{\\left(\\omega_{n} t \\right)} + \\frac{v_{0} \\sin{\\left(\\omega_{n} t \\right)}}{\\omega_{n}}$"
      ],
      "text/plain": [
       "Eq(x(t), x0*cos(omega_n*t) + v0*sin(omega_n*t)/omega_n)"
      ]
     },
     "execution_count": 12,
     "metadata": {},
     "output_type": "execute_result"
    }
   ],
   "source": [
    "sol = sol.subs('C1',C1)\n",
    "sol"
   ]
  },
  {
   "cell_type": "markdown",
   "id": "e184e220",
   "metadata": {},
   "source": [
    "De modo alternativo, é possível já inserir as condições iniciais no comando ``dsolve`` :"
   ]
  },
  {
   "cell_type": "code",
   "execution_count": 13,
   "id": "c9155e78",
   "metadata": {},
   "outputs": [
    {
     "data": {
      "text/latex": [
       "$\\displaystyle x{\\left(t \\right)} = x_{0} \\cos{\\left(\\frac{\\sqrt{k} t}{\\sqrt{m}} \\right)} + \\frac{\\sqrt{m} v_{0} \\sin{\\left(\\frac{\\sqrt{k} t}{\\sqrt{m}} \\right)}}{\\sqrt{k}}$"
      ],
      "text/plain": [
       "Eq(x(t), x0*cos(sqrt(k)*t/sqrt(m)) + sqrt(m)*v0*sin(sqrt(k)*t/sqrt(m))/sqrt(k))"
      ]
     },
     "execution_count": 13,
     "metadata": {},
     "output_type": "execute_result"
    }
   ],
   "source": [
    "sol = dsolve(EDM,ics={x.subs(t,0):x0,x.diff(t).subs(t,0):v0})\n",
    "sol"
   ]
  },
  {
   "cell_type": "code",
   "execution_count": 14,
   "id": "aa8c7c8e",
   "metadata": {},
   "outputs": [
    {
     "data": {
      "text/latex": [
       "$\\displaystyle x{\\left(t \\right)} = x_{0} \\cos{\\left(\\omega_{n} t \\right)} + \\frac{v_{0} \\sin{\\left(\\omega_{n} t \\right)}}{\\omega_{n}}$"
      ],
      "text/plain": [
       "Eq(x(t), x0*cos(omega_n*t) + v0*sin(omega_n*t)/omega_n)"
      ]
     },
     "execution_count": 14,
     "metadata": {},
     "output_type": "execute_result"
    }
   ],
   "source": [
    "sol = sol.subs({sqrt(m/k):1/omega_n,sqrt(k/m):omega_n})\n",
    "sol"
   ]
  },
  {
   "cell_type": "markdown",
   "id": "d0ae2ee6",
   "metadata": {},
   "source": [
    "Logo, com esta equação, podemos obter a resposta, $x(t)$, do sistema para qualquer instante de tempo. \n",
    "\n",
    "$x{\\left(t \\right)} = x_{0} \\cos{\\left(\\omega_{n} t \\right)} + \\frac{v_{0} \\sin{\\left(\\omega_{n} t \\right)}}{\\omega_{n}}$"
   ]
  },
  {
   "cell_type": "markdown",
   "id": "61b0474e",
   "metadata": {},
   "source": [
    "Podemos escrever esta equação de outra forma: \n",
    "\n",
    "$x(t) = X_0 sen(\\omega_n t + \\phi)$\n",
    "\n",
    "onde, $X_0 = \\sqrt{x_0^2 + \\left(\\dfrac{v_0}{\\omega_n} \\right)^2}$\n",
    "\n",
    "e $tg \\phi = \\dfrac{\\omega_n x_0}{v_0}$"
   ]
  },
  {
   "cell_type": "markdown",
   "id": "eda14726",
   "metadata": {},
   "source": [
    "**Observação:**\n",
    "\n",
    "Utilizando $\\omega_n = \\sqrt{\\dfrac{k}{m}}$ podemos reescrever a equação de movimento como: \n",
    "\n",
    "$\\ddot{x} + \\omega_n^2 x = 0 $"
   ]
  },
  {
   "cell_type": "markdown",
   "id": "86c65a68",
   "metadata": {},
   "source": [
    "## Obtenção das Equações de Movimento pelo Método de Lagrange para Sistemas Conservativos"
   ]
  },
  {
   "cell_type": "markdown",
   "id": "298c238d",
   "metadata": {},
   "source": [
    "**Coordenadas Generalizadas:**\n",
    "\n",
    "A determinação da configuração do sistema se faz por meio de um conjunto de funções escalares do tempo, $q_1(t)$, $q_2(t)$, $q_n(t)$ denominadas coordenadas generalizadas. "
   ]
  },
  {
   "cell_type": "markdown",
   "id": "be76fed9",
   "metadata": {},
   "source": [
    "Energia Cinética $\\rightarrow$ $T$\n",
    "\n",
    "![](figuras/fig2-2.png)\n",
    "![](figuras/fig2-3.png)"
   ]
  },
  {
   "cell_type": "markdown",
   "id": "ff84a99d",
   "metadata": {},
   "source": [
    "Energia Potencial $\\rightarrow$ $U$\n",
    "\n",
    "![](figuras/fig2-4.png)"
   ]
  },
  {
   "cell_type": "markdown",
   "id": "520112f9",
   "metadata": {},
   "source": [
    "**Lagrangeano:**\n",
    "\n",
    "$\\mathscr{L} = T - U$\n",
    "\n",
    "Equação de Lagrange para sistemas consevativos:\n",
    "\n",
    "$\\dfrac{d}{dt}\\left( \\dfrac{\\partial \\mathscr{L}}{\\partial \\dot{q}_i}\\right) - \\dfrac{\\partial \\mathscr{L}}{\\partial q_i} = 0 \\qquad i = 1,2,...,n$"
   ]
  },
  {
   "cell_type": "markdown",
   "id": "a58a3db3",
   "metadata": {},
   "source": [
    "### Exemplo 1:\n",
    "\n",
    "Obtenha a frequência angular, $\\omega_n$ do seguinte sistema mecânico e um gráfico do deslocamento em função do tempo para as seguintes condições iniciais: $\\theta(0) = \\pi/6$ e $\\dot{\\theta}(0) = 0$.\n",
    "\n",
    "Dados: \n",
    "\n",
    "Raio = 0.2m\n",
    "\n",
    "Massa do bloco = 0.5kg\n",
    "\n",
    "Massa do disco = 0.5kg\n",
    "\n",
    "Rigidez da mola = 1000N/m\n",
    "\n",
    "![](figuras/fig2-5.png)"
   ]
  },
  {
   "cell_type": "code",
   "execution_count": 15,
   "id": "d192bae1",
   "metadata": {},
   "outputs": [],
   "source": [
    "m,I,k,R = symbols('m I k R',positive = True)\n",
    "t = symbols('t')\n",
    "theta = Function('theta')(t)"
   ]
  },
  {
   "cell_type": "markdown",
   "id": "b0c61a88",
   "metadata": {},
   "source": [
    "Considerando que:\n",
    "\n",
    "$x = R \\theta$"
   ]
  },
  {
   "cell_type": "code",
   "execution_count": 16,
   "id": "6cfe54e5",
   "metadata": {},
   "outputs": [
    {
     "data": {
      "text/latex": [
       "$\\displaystyle T = \\frac{I \\left(\\frac{d}{d t} \\theta{\\left(t \\right)}\\right)^{2}}{2} + \\frac{R^{2} m \\left(\\frac{d}{d t} \\theta{\\left(t \\right)}\\right)^{2}}{2}$"
      ],
      "text/plain": [
       "Eq(T, I*Derivative(theta(t), t)**2/2 + R**2*m*Derivative(theta(t), t)**2/2)"
      ]
     },
     "execution_count": 16,
     "metadata": {},
     "output_type": "execute_result"
    }
   ],
   "source": [
    "T = m*(R*theta.diff(t))**2/2 + I*(theta.diff(t))**2/2\n",
    "Eq(symbols('T'),T)"
   ]
  },
  {
   "cell_type": "code",
   "execution_count": 17,
   "id": "8e9cbc5a",
   "metadata": {},
   "outputs": [
    {
     "data": {
      "text/latex": [
       "$\\displaystyle U = \\frac{R^{2} k \\theta^{2}{\\left(t \\right)}}{2}$"
      ],
      "text/plain": [
       "Eq(U, R**2*k*theta(t)**2/2)"
      ]
     },
     "execution_count": 17,
     "metadata": {},
     "output_type": "execute_result"
    }
   ],
   "source": [
    "U = k*(R*theta)**2/2\n",
    "Eq(symbols('U'),U)"
   ]
  },
  {
   "cell_type": "code",
   "execution_count": 18,
   "id": "9036f2fe",
   "metadata": {},
   "outputs": [
    {
     "data": {
      "text/latex": [
       "$\\displaystyle L = \\frac{I \\left(\\frac{d}{d t} \\theta{\\left(t \\right)}\\right)^{2}}{2} - \\frac{R^{2} k \\theta^{2}{\\left(t \\right)}}{2} + \\frac{R^{2} m \\left(\\frac{d}{d t} \\theta{\\left(t \\right)}\\right)^{2}}{2}$"
      ],
      "text/plain": [
       "Eq(L, I*Derivative(theta(t), t)**2/2 - R**2*k*theta(t)**2/2 + R**2*m*Derivative(theta(t), t)**2/2)"
      ]
     },
     "execution_count": 18,
     "metadata": {},
     "output_type": "execute_result"
    }
   ],
   "source": [
    "L = T - U\n",
    "Eq(symbols('L'),L)"
   ]
  },
  {
   "cell_type": "code",
   "execution_count": 19,
   "id": "55a25400",
   "metadata": {
    "scrolled": true
   },
   "outputs": [
    {
     "data": {
      "text/latex": [
       "$\\displaystyle I \\frac{d^{2}}{d t^{2}} \\theta{\\left(t \\right)} + R^{2} k \\theta{\\left(t \\right)} + R^{2} m \\frac{d^{2}}{d t^{2}} \\theta{\\left(t \\right)} = 0$"
      ],
      "text/plain": [
       "Eq(I*Derivative(theta(t), (t, 2)) + R**2*k*theta(t) + R**2*m*Derivative(theta(t), (t, 2)), 0)"
      ]
     },
     "execution_count": 19,
     "metadata": {},
     "output_type": "execute_result"
    }
   ],
   "source": [
    "EDM = Eq((L.diff(theta.diff(t))).diff(t) - L.diff(theta),0)\n",
    "EDM"
   ]
  },
  {
   "cell_type": "code",
   "execution_count": 20,
   "id": "cc470992",
   "metadata": {},
   "outputs": [
    {
     "data": {
      "text/latex": [
       "$\\displaystyle \\frac{d^{2}}{d t^{2}} \\theta{\\left(t \\right)} = - \\frac{R^{2} k \\theta{\\left(t \\right)}}{I + R^{2} m}$"
      ],
      "text/plain": [
       "Eq(Derivative(theta(t), (t, 2)), -R**2*k*theta(t)/(I + R**2*m))"
      ]
     },
     "execution_count": 20,
     "metadata": {},
     "output_type": "execute_result"
    }
   ],
   "source": [
    "Eq(theta.diff(t,2),solve(EDM,theta.diff(t,2))[0])"
   ]
  },
  {
   "cell_type": "markdown",
   "id": "b1533b16",
   "metadata": {},
   "source": [
    "Logo, observa-se que:\n",
    "\n",
    "$\\omega_n = \\sqrt{\\frac{R^{2} k }{I + R^{2} m}}$"
   ]
  },
  {
   "cell_type": "markdown",
   "id": "0c8b78e2",
   "metadata": {},
   "source": [
    "Resolvendo a EDO de segunda ordem: "
   ]
  },
  {
   "cell_type": "code",
   "execution_count": 21,
   "id": "1ae87cb5",
   "metadata": {},
   "outputs": [
    {
     "data": {
      "text/latex": [
       "$\\displaystyle \\theta{\\left(t \\right)} = C_{1} \\sin{\\left(\\frac{R \\sqrt{k} t}{\\sqrt{I + R^{2} m}} \\right)} + C_{2} \\cos{\\left(\\frac{R \\sqrt{k} t}{\\sqrt{I + R^{2} m}} \\right)}$"
      ],
      "text/plain": [
       "Eq(theta(t), C1*sin(R*sqrt(k)*t/sqrt(I + R**2*m)) + C2*cos(R*sqrt(k)*t/sqrt(I + R**2*m)))"
      ]
     },
     "execution_count": 21,
     "metadata": {},
     "output_type": "execute_result"
    }
   ],
   "source": [
    "sol = dsolve(EDM)\n",
    "dsolve(EDM)"
   ]
  },
  {
   "cell_type": "code",
   "execution_count": 22,
   "id": "19d8e9cf",
   "metadata": {},
   "outputs": [
    {
     "data": {
      "text/latex": [
       "$\\displaystyle \\theta{\\left(t \\right)} = C_{1} \\sin{\\left(\\omega_{n} t \\right)} + C_{2} \\cos{\\left(\\omega_{n} t \\right)}$"
      ],
      "text/plain": [
       "Eq(theta(t), C1*sin(omega_n*t) + C2*cos(omega_n*t))"
      ]
     },
     "execution_count": 22,
     "metadata": {},
     "output_type": "execute_result"
    }
   ],
   "source": [
    "omega_n = symbols('omega_n')\n",
    "sol.subs(R*sqrt(k/(I+R**2*m)),omega_n)"
   ]
  },
  {
   "cell_type": "markdown",
   "id": "b569f6d2",
   "metadata": {},
   "source": [
    "Temos que: $\\theta(0) = \\pi/6$ e $\\dot{\\theta}(0) = 0$"
   ]
  },
  {
   "cell_type": "code",
   "execution_count": 23,
   "id": "2c73790f",
   "metadata": {},
   "outputs": [
    {
     "data": {
      "text/latex": [
       "$\\displaystyle \\frac{\\pi}{6} = C_{2}$"
      ],
      "text/plain": [
       "Eq(pi/6, C2)"
      ]
     },
     "execution_count": 23,
     "metadata": {},
     "output_type": "execute_result"
    }
   ],
   "source": [
    "CI_1 = Eq(pi/6,sol.rhs.subs(t,0))\n",
    "CI_1"
   ]
  },
  {
   "cell_type": "code",
   "execution_count": 24,
   "id": "c0fcca2b",
   "metadata": {},
   "outputs": [
    {
     "data": {
      "text/latex": [
       "$\\displaystyle \\theta{\\left(t \\right)} = C_{1} \\sin{\\left(\\frac{R \\sqrt{k} t}{\\sqrt{I + R^{2} m}} \\right)} + \\frac{\\pi \\cos{\\left(\\frac{R \\sqrt{k} t}{\\sqrt{I + R^{2} m}} \\right)}}{6}$"
      ],
      "text/plain": [
       "Eq(theta(t), C1*sin(R*sqrt(k)*t/sqrt(I + R**2*m)) + pi*cos(R*sqrt(k)*t/sqrt(I + R**2*m))/6)"
      ]
     },
     "execution_count": 24,
     "metadata": {},
     "output_type": "execute_result"
    }
   ],
   "source": [
    "sol = sol.subs('C2',pi/6)\n",
    "sol"
   ]
  },
  {
   "cell_type": "code",
   "execution_count": 25,
   "id": "f03f6980",
   "metadata": {},
   "outputs": [
    {
     "data": {
      "text/latex": [
       "$\\displaystyle 0 = \\frac{C_{1} R \\sqrt{k}}{\\sqrt{I + R^{2} m}}$"
      ],
      "text/plain": [
       "Eq(0, C1*R*sqrt(k)/sqrt(I + R**2*m))"
      ]
     },
     "execution_count": 25,
     "metadata": {},
     "output_type": "execute_result"
    }
   ],
   "source": [
    "CI_2 = Eq(0,sol.rhs.diff(t).subs(t,0))\n",
    "CI_2"
   ]
  },
  {
   "cell_type": "code",
   "execution_count": 26,
   "id": "07539b54",
   "metadata": {},
   "outputs": [
    {
     "data": {
      "text/latex": [
       "$\\displaystyle \\theta{\\left(t \\right)} = \\frac{\\pi \\cos{\\left(\\frac{R \\sqrt{k} t}{\\sqrt{I + R^{2} m}} \\right)}}{6}$"
      ],
      "text/plain": [
       "Eq(theta(t), pi*cos(R*sqrt(k)*t/sqrt(I + R**2*m))/6)"
      ]
     },
     "execution_count": 26,
     "metadata": {},
     "output_type": "execute_result"
    }
   ],
   "source": [
    "sol = sol.subs('C1',0)\n",
    "sol"
   ]
  },
  {
   "cell_type": "code",
   "execution_count": 27,
   "id": "a24bbeaa",
   "metadata": {},
   "outputs": [],
   "source": [
    "dados = {R:0.2,m:0.5,I:0.5*0.2**2/2,k:1000}"
   ]
  },
  {
   "cell_type": "code",
   "execution_count": 28,
   "id": "0e4e3f32",
   "metadata": {},
   "outputs": [
    {
     "data": {
      "text/latex": [
       "$\\displaystyle \\theta{\\left(t \\right)} = \\frac{\\pi \\cos{\\left(11.5470053837925 \\sqrt{10} t \\right)}}{6}$"
      ],
      "text/plain": [
       "Eq(theta(t), pi*cos(11.5470053837925*sqrt(10)*t)/6)"
      ]
     },
     "execution_count": 28,
     "metadata": {},
     "output_type": "execute_result"
    }
   ],
   "source": [
    "theta_t = sol.rhs.subs(dados)\n",
    "Eq(Function('theta')(t),theta_t)"
   ]
  },
  {
   "cell_type": "code",
   "execution_count": 29,
   "id": "b54c3ab1",
   "metadata": {},
   "outputs": [
    {
     "data": {
      "image/png": "[encoded data removed]",
      "text/plain": [
       "<Figure size 1000x600 with 1 Axes>"
      ]
     },
     "metadata": {},
     "output_type": "display_data"
    }
   ],
   "source": [
    "plt = plot(theta_t,(t,0,2),show=False)\n",
    "plt.size = (10,6)\n",
    "plt.title = 'Exemplo 1'\n",
    "plt.xlabel = 'Tempo [s]'\n",
    "plt.ylabel = 'Amplitude [rad]'\n",
    "plt.show()"
   ]
  },
  {
   "cell_type": "markdown",
   "id": "d15bcafb",
   "metadata": {},
   "source": [
    "## Massa Equivalente e Rigidez Equivalente"
   ]
  },
  {
   "cell_type": "markdown",
   "id": "fe4c0500",
   "metadata": {},
   "source": [
    "De modo geral, para todo sistema conservativo de 1 GDL em vibração livre podemos modelá-lo da seguinte maneira: \n",
    "\n",
    "$m_{eq} \\ddot{q}_1 + k_{eq} q = 0$\n",
    "\n",
    "No exemplo anterior obtivemos a seguinte equação de movimento: \n",
    "\n",
    "$(R^2m + I) \\ddot{\\theta} + R^2 k \\theta = 0$\n",
    "\n",
    "Deste modo, observa-se que:\n",
    "\n",
    "$m_{eq} = R^2m + I$\n",
    "\n",
    "$k_{eq} = R^2 k$ \n",
    "\n",
    "Observa-se que:\n",
    "\n",
    "$\\omega_n = \\sqrt{\\dfrac{k_{eq}}{m_{eq}}}$"
   ]
  },
  {
   "cell_type": "markdown",
   "id": "6c59f6a0",
   "metadata": {},
   "source": [
    "### Exemplo 2:\n",
    "\n",
    "Obtenha a frequência natural de um disco soldado a um eixo flexível engastado. Obtenha uma expressão para o deslocamento angular $\\theta$ do disco em função do tempo, considere como codição inicial uma velocidade $\\dot{\\theta}(t) = \\omega_0$. "
   ]
  },
  {
   "cell_type": "markdown",
   "id": "459e050d",
   "metadata": {},
   "source": [
    "### Associação de Molas"
   ]
  },
  {
   "cell_type": "markdown",
   "id": "fc9281e2",
   "metadata": {},
   "source": [
    "* Em paralelo: \n",
    "\n",
    "![](figuras/fig2-6.png)"
   ]
  },
  {
   "cell_type": "markdown",
   "id": "a65c67bd",
   "metadata": {},
   "source": [
    "$F_{M_1} = - k_1 (x_1 - x_2)$\n",
    "\n",
    "$F_{M_2} = - k_2 (x_1 - x_2) $\n",
    "\n",
    "$F_M = F_{M_1} F_{M_2} \\rightarrow F_M = k_1(x_2 - x_1) + k_2(x_2 - x_1)$\n",
    "\n",
    "$F_M = (k_1 + k_2)(x_2 - x_1) \\rightarrow F_M = k_{eq} (x_2 - x_1)$\n",
    "\n",
    "$k_{eq} = k_1 + k_2$\n",
    "\n",
    "Para $n$ molas:\n",
    "\n",
    "$k_{eq} = \\sum_{i=1}^{n}k_i$"
   ]
  },
  {
   "cell_type": "markdown",
   "id": "57088de0",
   "metadata": {},
   "source": [
    "* Em série\n",
    "\n",
    "![](figuras/fig2-7.png)"
   ]
  },
  {
   "cell_type": "markdown",
   "id": "12dba86e",
   "metadata": {},
   "source": [
    "$F_{M_1} = -k_1(x_1 - x_0)$\n",
    "\n",
    "$F_{M_2} + -k_2(x_0 - x_2)$\n",
    "\n",
    "$F_{M_1} = F_{M_2} = F_M$\n",
    "\n",
    "$F_M = -k_1(x_1 - x_0) \\rightarrow x_0 = \\dfrac{F_M}{k_1} + x_1$\n",
    "\n",
    "$F_M = -k_2(x_o - x_2) \\rightarrow x_o = \\dfrac{-F_M}{k_2} + x_2$\n",
    "\n",
    "$F_M = k_2(x_2 - \\dfrac{F_M}{k_1} - x_1)$\n",
    "\n",
    "$\\dfrac{F_M}{k_2} = (x_2 - x_1) - \\dfrac{F_M}{k_1} \\rightarrow \\dfrac{F_M}{k_2} + \\dfrac{F_M}{k_1} = (x_2 - x_1)$\n",
    "\n",
    "$F_M\\left( \\dfrac{1}{k_2} + \\dfrac{1}{k_1} \\right) = (x_2 - x_1) \\rightarrow F_M = - \\left( \\dfrac{1}{k_1} + \\dfrac{1}{k_2} \\right)^{-1}(x_1 - x_2)$\n",
    "\n",
    "$k_{eq} = \\left(\\dfrac{1}{k_1} + \\dfrac{1}{k_2} \\right)^{-1}$\n",
    "\n",
    "Para $n$ molas:\n",
    "\n",
    "$k_{eq} = \\left( \\sum^{n}_{i=1} \\dfrac{1}{k_i} \\right)^{-1}$"
   ]
  },
  {
   "cell_type": "markdown",
   "id": "ca53678f",
   "metadata": {},
   "source": [
    "### Exemplo 3: \n",
    "\n",
    "Obtenha a rigidez equivalente do seguinte sistema: \n",
    "\n",
    "![](figuras/fig2-8.png)"
   ]
  },
  {
   "cell_type": "markdown",
   "id": "2e71e1b2",
   "metadata": {},
   "source": [
    "## Linearização em Torno de um Ponto de Equilíbrio"
   ]
  },
  {
   "cell_type": "markdown",
   "id": "32225738",
   "metadata": {},
   "source": [
    "### Estabilidade\n",
    "\n",
    "O conceito de estabilidade é fundamental no estudo de sistemas dinâmicos.\n",
    "\n",
    "A estabilidade está associada a característica de uma dada solução do sistema e, intuitivamente, pode-se entendê-la pensando em termos de como o sistema responde a uma determinada pertubação. Se esta pertubação não afetar significamente um dada solução, então ela é estável. Do contrário, ela é instável. \n",
    "\n",
    "1. Equilíbrio meta-estável\n",
    "2. Equilíbrio instável\n",
    "3. Equilíbrio estável\n",
    "4. Equilíbrio neutro"
   ]
  },
  {
   "cell_type": "markdown",
   "id": "d71e7889",
   "metadata": {},
   "source": [
    "### Ponto de Equilíbrio\n",
    "\n",
    "Define-se um ponto de equilíbrio, ou ponto fixo de um sistema dinâmico, como sendo o ponto em que o sistema permanece estacionário na medida em que o tempo evolui. \n",
    "\n",
    "* Um ponto de equilíbrio é um ponto onde a solução não varia com o tempo. \n",
    "* Pensando em termos mecânicos, um ponto de equilíbrio está associado a uma posição onde o sistema possui velocidade e acelerações nulas. \n",
    "\n",
    "$y = f(x)$\n",
    "\n",
    "$\\bar{x} \\in \\mathbb{R}^{n}$ é um ponto de equilíbrio\n",
    "\n",
    "$x = \\bar{x} + \\eta$ , $\\bar{x}$, $\\eta \\in \\mathbb{R}^{n}$\n",
    "\n",
    "Vamos expandir $f$ em torno de $\\bar{x}$ usando uma série de Taylor:\n",
    "\n",
    "$y = f(x) = f(\\bar{x}) + \\dfrac{df}{dx}(x - \\bar{x}) + \\dfrac{1}{2!} \\dfrac{d^2 f}{dx^2}(x - \\bar{x})^2 + ...$\n",
    "\n",
    "Se $x - \\bar{x}$ for pequeno, podemos desprezar os termos de ordem mais elevada:\n",
    "\n",
    "$y = \\bar{y} + K(x - \\bar{x})$\n",
    "\n",
    "onde:\n",
    "\n",
    "$\\bar{y} = f(\\bar{x})$\n",
    "\n",
    "$K = \\left. \\dfrac{df}{dx} \\right|_{x = \\bar{x}}$"
   ]
  },
  {
   "cell_type": "markdown",
   "id": "06ca2766",
   "metadata": {},
   "source": [
    "### Exemplo 4:\n",
    "\n",
    "Obtenha a frequência natural para um pêndulo de massa concentrada, conforme mostrado na figura a seguir. Considere pequenas oscilações para o ângulo $\\theta$.  \n",
    "\n",
    "![](figuras/fig2-9.png)"
   ]
  },
  {
   "cell_type": "markdown",
   "id": "577204c5",
   "metadata": {},
   "source": [
    "### Exemplo 5: \n",
    "\n"
   ]
  },
  {
   "cell_type": "markdown",
   "id": "4bcd31b8",
   "metadata": {},
   "source": [
    "**Recaptulando...**\n",
    "\n",
    "![](figuras/fig2-10.png)\n",
    "\n",
    "$x(t) = x_0 cos(\\omega_n t) + \\dfrac{v_0}{\\omega_n} sen(\\omega_n t)$\n",
    "\n",
    "onde:\n",
    "\n",
    "$\\omega_n = \\sqrt{\\dfrac{k}{m}}$\n",
    "\n",
    "Ou:\n",
    "\n",
    "$x(t) = X_0 sen(\\omega_n t + \\phi)$\n",
    "\n",
    "onde:\n",
    "\n",
    "$X_0 = \\sqrt{x_0^2 + \\left( \\dfrac{v_0}{\\omega_n}\\right)^2} \\Leftarrow$ amplitude\n",
    "\n",
    "$tg\\phi = \\dfrac{omega_n x_0}{v_0} \\Leftarrow$ ângulo de fase\n",
    "\n",
    "A frequência natural do movimento não amortecido $f_n$ [Hz] e o período natural do movimento não amortecido $\\tau_n$ [seg], são: \n",
    "\n",
    "$f_n = \\dfrac{\\omega_n}{2 \\pi} = \\dfrac{1}{2 \\pi} \\sqrt{\\dfrac{k}{m}} = \\dfrac{1}{\\tau_n}$"
   ]
  },
  {
   "cell_type": "markdown",
   "id": "d5fe2c70",
   "metadata": {},
   "source": [
    "Em muitos casos de sistemas massa-mola, quando a mola apresenta característica linear, é mais prático apoiar a massa sobre a mola e medir a deflexão estática da mola sob o peso da massa. \n",
    "\n",
    "![](figuras/fig2-11.png)\n",
    "\n",
    "A deflexão estática assim obtida seria: \n",
    "\n",
    "$\\delta_e = \\dfrac{mg}{k}$\n",
    "\n",
    "E a frequência natural não amortecida em termos da deflexão estática $\\delta_e$ seria: \n",
    "\n",
    "$f_n = \\dfrac{1}{2 \\pi}\\sqrt{\\dfrac{g}{\\delta_e}}$\n",
    "\n",
    "onde $g$ é a aceleração da gravidade"
   ]
  },
  {
   "cell_type": "markdown",
   "id": "7dbc4133",
   "metadata": {},
   "source": [
    "## Sistemas com um Grau de Liberdade em Vibrações Livres com Amortecimento Viscoso"
   ]
  },
  {
   "cell_type": "markdown",
   "id": "752e4a9f",
   "metadata": {},
   "source": [
    "![](figuras/fig2-12.png)"
   ]
  },
  {
   "cell_type": "code",
   "execution_count": 30,
   "id": "70c87559",
   "metadata": {},
   "outputs": [],
   "source": [
    "c = symbols('c',positive = True)"
   ]
  },
  {
   "cell_type": "code",
   "execution_count": 31,
   "id": "ff97955a",
   "metadata": {},
   "outputs": [
    {
     "data": {
      "text/latex": [
       "$\\displaystyle c \\frac{d}{d t} x{\\left(t \\right)} + k x{\\left(t \\right)} + m \\frac{d^{2}}{d t^{2}} x{\\left(t \\right)} = 0$"
      ],
      "text/plain": [
       "Eq(c*Derivative(x(t), t) + k*x(t) + m*Derivative(x(t), (t, 2)), 0)"
      ]
     },
     "execution_count": 31,
     "metadata": {},
     "output_type": "execute_result"
    }
   ],
   "source": [
    "EQM = Eq(m*x.diff(t,2) + c*x.diff(t) + k*x,0)\n",
    "EQM"
   ]
  },
  {
   "cell_type": "code",
   "execution_count": 32,
   "id": "579430ba",
   "metadata": {},
   "outputs": [
    {
     "data": {
      "text/latex": [
       "$\\displaystyle x{\\left(t \\right)} = C_{1} e^{\\frac{t \\left(- c + \\sqrt{c^{2} - 4 k m}\\right)}{2 m}} + C_{2} e^{- \\frac{t \\left(c + \\sqrt{c^{2} - 4 k m}\\right)}{2 m}}$"
      ],
      "text/plain": [
       "Eq(x(t), C1*exp(t*(-c + sqrt(c**2 - 4*k*m))/(2*m)) + C2*exp(-t*(c + sqrt(c**2 - 4*k*m))/(2*m)))"
      ]
     },
     "execution_count": 32,
     "metadata": {},
     "output_type": "execute_result"
    }
   ],
   "source": [
    "sol = dsolve(EQM)\n",
    "sol"
   ]
  },
  {
   "cell_type": "markdown",
   "id": "cb0bda52",
   "metadata": {},
   "source": [
    "O comportamento da solução dependerá dos valores do $\\Delta$:\n",
    "\n",
    "$\\Delta = c^2 - 4km$\n",
    "\n",
    "Denominaremos **coeficiente de amortecimento crítico** $c_c$ o valor limítrofe do coeficiente de amortecimento viscoso que anule $\\Delta$.\n",
    "\n",
    "* para $\\Delta = 0 \\Rightarrow c_c = \\sqrt{4km} = 2m\\sqrt{\\dfrac{k}{m}}$\n",
    "\n",
    "Expressando em termos da pulsação natural não amortecida:\n",
    "\n",
    "$c_c = 2 m \\omega_n$"
   ]
  },
  {
   "cell_type": "markdown",
   "id": "b93162a3",
   "metadata": {},
   "source": [
    "Em engenharia, sempre que possível, é vantajoso realizar análises em termos de parâmetros adimensionais. \n",
    "\n",
    "**Fator de Amortecimento**\n",
    "\n",
    "$\\zeta = \\dfrac{c}{c_c}$\n",
    "\n",
    "$\\zeta = \\dfrac{c}{2m \\omega_n}$"
   ]
  },
  {
   "cell_type": "markdown",
   "id": "3dbd9734",
   "metadata": {},
   "source": [
    "Escrevendo a equação de movimento na forma adimensionalizada: "
   ]
  },
  {
   "cell_type": "code",
   "execution_count": 33,
   "id": "0cc1840a",
   "metadata": {},
   "outputs": [],
   "source": [
    "zeta,omega_n = symbols('zeta omega_n',positive = True)"
   ]
  },
  {
   "cell_type": "code",
   "execution_count": 34,
   "id": "ece5adb5",
   "metadata": {},
   "outputs": [
    {
     "data": {
      "text/latex": [
       "$\\displaystyle 2 \\omega_{n} \\zeta \\frac{d}{d t} x{\\left(t \\right)} + \\omega_{n} x{\\left(t \\right)} + \\frac{d^{2}}{d t^{2}} x{\\left(t \\right)} = 0$"
      ],
      "text/plain": [
       "Eq(2*omega_n*zeta*Derivative(x(t), t) + omega_n*x(t) + Derivative(x(t), (t, 2)), 0)"
      ]
     },
     "execution_count": 34,
     "metadata": {},
     "output_type": "execute_result"
    }
   ],
   "source": [
    "EQM = Eq(x.diff(t,2) + 2*zeta*omega_n*x.diff(t) + omega_n*x,0)\n",
    "EQM"
   ]
  },
  {
   "cell_type": "code",
   "execution_count": 35,
   "id": "2d9a7b83",
   "metadata": {},
   "outputs": [
    {
     "data": {
      "text/latex": [
       "$\\displaystyle x{\\left(t \\right)} = C_{1} e^{t \\left(\\sqrt{\\omega_{n}} \\sqrt{\\omega_{n} \\zeta^{2} - 1} - \\omega_{n} \\zeta\\right)} + C_{2} e^{- t \\left(\\sqrt{\\omega_{n}} \\sqrt{\\omega_{n} \\zeta^{2} - 1} + \\omega_{n} \\zeta\\right)}$"
      ],
      "text/plain": [
       "Eq(x(t), C1*exp(t*(sqrt(omega_n)*sqrt(omega_n*zeta**2 - 1) - omega_n*zeta)) + C2*exp(-t*(sqrt(omega_n)*sqrt(omega_n*zeta**2 - 1) + omega_n*zeta)))"
      ]
     },
     "execution_count": 35,
     "metadata": {},
     "output_type": "execute_result"
    }
   ],
   "source": [
    "sol = dsolve(EQM)\n",
    "sol"
   ]
  },
  {
   "cell_type": "markdown",
   "id": "b98c6b5c",
   "metadata": {},
   "source": [
    "Observe que:\n",
    "\n",
    "$s_{1,2} = \\omega_n(-\\zeta \\pm \\sqrt{\\zeta^2 -1})$\n",
    "\n",
    "O sistema poderá se comportar de três formas distintas dependendo do valor do fator de amortecimento:\n",
    "\n",
    "* Amortecimento Hipercrítico $\\zeta > 1$\n",
    "* Amortecimento Crítico $\\zeta =1$\n",
    "* Amortecimento subcrítico $\\zeta < 1$"
   ]
  },
  {
   "cell_type": "code",
   "execution_count": 36,
   "id": "e97ac333",
   "metadata": {},
   "outputs": [],
   "source": [
    "sol = dsolve(EQM,ics={x.subs(t,0):x0,x.diff(t).subs(t,0):v0})"
   ]
  },
  {
   "cell_type": "code",
   "execution_count": 37,
   "id": "a7cd3a69",
   "metadata": {},
   "outputs": [],
   "source": [
    "# Por exemplo, vamos considerar as seguintes condições iniciais:\n",
    "xo = 1\n",
    "vo = -4.5\n",
    "# Vamos considerar a seguinte frequência natural: \n",
    "wn = 3"
   ]
  },
  {
   "cell_type": "code",
   "execution_count": 38,
   "id": "15b15c32",
   "metadata": {},
   "outputs": [],
   "source": [
    "sol = sol.subs({x0:xo,v0:vo,omega_n:wn})"
   ]
  },
  {
   "cell_type": "code",
   "execution_count": 39,
   "id": "977ed5d0",
   "metadata": {},
   "outputs": [],
   "source": [
    "def x_plot(zeta_val):\n",
    "    plt = plot(sol.rhs.subs(zeta,zeta_val),(t,0,10),show=False)\n",
    "    plt.size = (6,4)\n",
    "    plt.title = 'Influência do Fator de Amortecimento'\n",
    "    plt.xlabel = 'Tempo [s]'\n",
    "    plt.ylabel = 'Amplitude'\n",
    "    plt.show()"
   ]
  },
  {
   "cell_type": "code",
   "execution_count": 40,
   "id": "fd242f29",
   "metadata": {},
   "outputs": [],
   "source": [
    "from ipywidgets import interact"
   ]
  },
  {
   "cell_type": "code",
   "execution_count": 41,
   "id": "4e9cf8fc",
   "metadata": {},
   "outputs": [
    {
     "data": {
      "application/vnd.jupyter.widget-view+json": {
       "model_id": "d359d2b0b38649ac94b1e19ebf7f259f",
       "version_major": 2,
       "version_minor": 0
      },
      "text/plain": [
       "interactive(children=(FloatSlider(value=1.005, description='zeta_val', max=2.0, min=0.01), Output()), _dom_cla…"
      ]
     },
     "metadata": {},
     "output_type": "display_data"
    },
    {
     "data": {
      "text/plain": [
       "<function __main__.x_plot(zeta_val)>"
      ]
     },
     "execution_count": 41,
     "metadata": {},
     "output_type": "execute_result"
    }
   ],
   "source": [
    "interact(x_plot,zeta_val=(0.01,2))"
   ]
  },
  {
   "cell_type": "markdown",
   "id": "25f13c9f",
   "metadata": {},
   "source": [
    "### Amortecimento Hipercrítico $\\zeta > 1$\n",
    "\n",
    "$s_{1,2} =  \\left( - \\zeta \\pm \\sqrt{\\zeta^2 -1} \\right) \\Leftarrow$ real\n",
    "\n",
    "$x(t) = C_1 e^{\\left(-\\zeta + \\sqrt{\\zeta^2 -1}\\right) \\omega_n t} + C_2 e^{\\left(-\\zeta - \\sqrt{\\zeta^2 -1}\\right)\\omega_n t}$\n",
    "\n",
    "Onde:\n",
    "\n",
    "$C_1 = \\dfrac{\\dfrac{v_0}{x_0} + \\left( \\zeta + \\sqrt{\\zeta^2 -1} \\right)x_0}{2\\sqrt{\\zeta^2 -1}}$\n",
    "\n",
    "$C_2 = \\dfrac{\\dfrac{v_0}{x_0} + \\left( \\zeta - \\sqrt{\\zeta^2 -1} \\right)x_0}{2\\sqrt{\\zeta^2 -1}}$"
   ]
  },
  {
   "cell_type": "markdown",
   "id": "a6e0870d",
   "metadata": {},
   "source": [
    "### Amortecimento Crítico $\\zeta =1$\n",
    "\n",
    "$s_1 = s_2 = -\\omega_n$\n",
    "\n",
    "$x(t) = (C_1 + C_2t) e^{-\\omega_n t}$\n",
    "\n",
    "$x(t) = \\left[ x_0 + \\left( \\dfrac{v_0}{\\omega_n + x_0} \\right) \\omega_n t \\right] e^{-\\omega_n t}$\n",
    "\n",
    "Condição para que ocorra o cruzamento do eixo das abscissas:\n",
    "\n",
    "$x_0 + \\left( \\dfrac{v_0}{\\omega_n} + x_0 \\right) - \\omega_n t^* = 0 \\Rightarrow \\omega_n t^* = -\\dfrac{1}{1 + \\dfrac{v_0}{\\omega_n x_0}} \\Rightarrow \\dfrac{v_0}{\\omega_n x_0} < -1 $\n",
    "\n",
    "logo $\\left| \\dfrac{v_0}{\\omega_n} \\right| > |x_0|$ e $v_0$ e $x_0$ devem ter sinais opostos.\n",
    "\n",
    "Observação:\n",
    "\n",
    "* Em ambos os casos o movimento é não-oscilatório\n",
    "* Para uma dada condição inicial, o retorno mais rápido à configuração de equilíbrio sem oscilações é obtido quando $\\zeta = 1$"
   ]
  },
  {
   "cell_type": "markdown",
   "id": "4897077e",
   "metadata": {},
   "source": [
    "### Amortecimento subcrítico $\\zeta < 1$\n",
    "\n",
    "Neste caso os autovalores são complexos conjugados\n",
    "\n",
    "$s_{1,2} = \\omega_n \\left(- \\zeta \\pm i \\sqrt{1 - \\zeta^2} \\right)$\n",
    "\n",
    "$x(t) = e^{-\\zeta \\omega_n t} \\left( A e ^{i\\sqrt{1 - \\zeta^2}\\omega_n t} + B e^{-i \\sqrt{1 - \\zeta^2}\\omega_n t} \\right)$\n",
    "\n",
    "lembrando da relação de Euler $\\rightarrow e^{\\pm i \\theta} = cos \\theta \\pm i sen \\theta$ \n",
    "\n",
    "$x(t) = e^{-\\zeta \\omega_n t} \\left[ A cos \\left( \\sqrt{1 - \\zeta^2}\\omega_n t \\right) + i A sen \\left( \\sqrt{1 - \\zeta^2} \\omega_n t \\right) + B cos \\left( \\sqrt{1 - \\zeta^2} \\omega_n t \\right) - i B sen \\left( \\sqrt{1 - \\zeta^2} \\omega_n t \\right)\\right]$ \n",
    "\n",
    "definindo $C_1 = (A+B)$ e $C_2 = i(A-B)$\n",
    "\n",
    "$x(t) = e^{-\\zeta \\omega_n t} \\left[ C_1 cos\\left(\\sqrt{1 - \\zeta^2} \\omega_n t\\right) + C_2 sen \\left( \\sqrt{1 - \\zeta^2}\\omega_n t \\right) \\right]$\n",
    "\n",
    "$x(t) = e^{-\\zeta \\omega_n t} \\left[ x_0 cos \\left( \\sqrt{1 - \\zeta^2} \\omega_n t \\right) + \\dfrac{v_0 + \\zeta \\omega_n x_0}{\\sqrt{1-\\zeta^2}\\omega_n} sen \\left( \\sqrt{1 - \\zeta^2} \\omega_n t \\right)\\right]$\n",
    "\n",
    "De forma mais compacta:\n",
    "\n",
    "$x(t) = X_1 e ^{\\zeta \\omega_n t} sen \\left( \\sqrt{1 - \\zeta^2} \\omega_n t + \\phi \\right)$\n",
    "\n",
    "$X_1 = \\sqrt{x_0^2 + \\left(\\dfrac{\\dfrac{v_0}{\\omega_n} + \\zeta x_0}{\\sqrt{1 - \\zeta^2}} \\right)^2}$\n",
    "\n",
    "$tg\\phi = \\dfrac{\\sqrt{1 - \\zeta^2}x_0}{\\dfrac{v_0}{\\omega_n} + \\zeta x_0}$\n",
    "\n",
    "Definições:\n",
    "\n",
    "$\\omega_a = \\sqrt{1 - \\zeta^2} \\omega_n \\Leftarrow$ pulsação natural amortecida\n",
    "\n",
    "$f_a = \\dfrac{\\sqrt{1 - \\zeta^2}\\omega_n}{2 \\pi} \\Leftarrow$ frequência natural amortecida\n",
    "\n",
    "$\\tau_a = \\dfrac{2 \\pi}{\\sqrt{1 - \\tau^2}\\omega_n} \\Leftarrow$ período natural amortecido"
   ]
  },
  {
   "cell_type": "code",
   "execution_count": null,
   "id": "b12fba36",
   "metadata": {},
   "outputs": [],
   "source": []
  }
 ],
 "metadata": {
  "kernelspec": {
   "display_name": "Python 3 (ipykernel)",
   "language": "python",
   "name": "python3"
  },
  "language_info": {
   "codemirror_mode": {
    "name": "ipython",
    "version": 3
   },
   "file_extension": ".py",
   "mimetype": "text/x-python",
   "name": "python",
   "nbconvert_exporter": "python",
   "pygments_lexer": "ipython3",
   "version": "3.9.13"
  }
 },
 "nbformat": 4,
 "nbformat_minor": 5
}
