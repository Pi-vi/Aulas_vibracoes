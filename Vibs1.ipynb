{
 "cells": [
  {
   "cell_type": "markdown",
   "id": "a75a6f6e",
   "metadata": {},
   "source": [
    "# Introdução aos Conceitos Básicos de Vibrações\n",
    "\n",
    "Professor Paulo Victor"
   ]
  },
  {
   "cell_type": "markdown",
   "id": "b3141352",
   "metadata": {},
   "source": [
    "---\n",
    "**Atenção:**\n",
    "\n",
    "Este material serve apenas como um guia para estudos e para as aulas, não substituindo a leitura dos livros indicados e é de uso exclusivo dos alunos do CEFET/RJ campus Angra dos Reis.\n",
    "\n",
    "---"
   ]
  },
  {
   "cell_type": "markdown",
   "id": "fe6f131e",
   "metadata": {},
   "source": [
    "## Modelagem Mecânica"
   ]
  },
  {
   "cell_type": "markdown",
   "id": "5984d6d5",
   "metadata": {},
   "source": [
    "* Um engenheiro é um especialista em modelagem.\n",
    "\n",
    "![](figuras/fig1-1.png)"
   ]
  },
  {
   "cell_type": "markdown",
   "id": "3bd48597",
   "metadata": {},
   "source": [
    "![](figuras/fig1-2.png)\n",
    "![](figuras/fig1-3.png)"
   ]
  },
  {
   "cell_type": "markdown",
   "id": "314f69d5",
   "metadata": {},
   "source": [
    "## Movimento Oscilatório"
   ]
  },
  {
   "cell_type": "markdown",
   "id": "0d84fff5",
   "metadata": {},
   "source": [
    "* O estudo da vibração diz respeito aos movimentos oscilatórios dos corpos e às forças que lhes são associadas.\n",
    "* Todos os corpos dotados de massa e elasticidade são capazes de vibração."
   ]
  },
  {
   "cell_type": "markdown",
   "id": "d2657113",
   "metadata": {},
   "source": [
    "![](figuras/fig1-4.png)"
   ]
  },
  {
   "cell_type": "markdown",
   "id": "9984ab88",
   "metadata": {},
   "source": [
    "Os sistemas de vibração são todos eles sujeitos a um certo grau de amortecimento, por causa da dissipação de energia pelo atrito e outras resistências. \n",
    "\n",
    "Chama-se **grau de liberdade de um sistema** (GDL) o número de coordenadas independentes requerido para a descrição do seu movimento."
   ]
  },
  {
   "cell_type": "markdown",
   "id": "dc1cc2ed",
   "metadata": {},
   "source": [
    "## Movimento Harmônico"
   ]
  },
  {
   "cell_type": "markdown",
   "id": "8c73bd24",
   "metadata": {},
   "source": [
    "* Não periódico\n",
    "* Periódico\n",
    "    * Se repete em intervalos de tempo iguais\n",
    "    * O tempo de repetição, $\\tau$, é denominado **período de oscilação**\n",
    " \n",
    "A **frequência de oscilação**, $f$, é o inverso do período de oscilação.\n",
    "\n",
    "$f = \\dfrac{1}{f}$"
   ]
  },
  {
   "cell_type": "markdown",
   "id": "2f2ddd58",
   "metadata": {},
   "source": [
    "A forma mais simples de movimento períodico é o movimento harmônico.\n",
    "\n",
    "![](figuras/fig1-6.png)\n",
    "\n",
    "$x = A sen(2 \\pi f t)$\n",
    "\n",
    "$\\omega = 2 \\pi f$\n",
    "\n",
    "Onde $\\omega$ é denominado **frequência circular**, ou **frequência angular**, ou **pulsação**. Em geral, ele é expresso na unidade [rad/s]. \n",
    "\n",
    "Deste modo:\n",
    "\n",
    "$x = A sen (\\omega t)$"
   ]
  },
  {
   "attachments": {},
   "cell_type": "markdown",
   "id": "c6122f89",
   "metadata": {},
   "source": [
    "![image.png](figuras/fig1-7.png)"
   ]
  },
  {
   "cell_type": "markdown",
   "id": "95a83ee3",
   "metadata": {},
   "source": [
    "Podemos representar o raio da circunferência como uma quantidade complexa $z$ chamada **fasor$$. \n",
    "\n",
    "O fazor é expresso pela equação:\n",
    "\n",
    "$z = A e^{i \\omega t} = A cos(\\omega t) + i A sen (\\omega t)$\n",
    "\n",
    "Ou, usando a identidade de Euler: \n",
    "\n",
    "$z = Ae^{i \\omega t} = A cos(\\omega t) + i A sen(\\omega t)$\n",
    "\n",
    "ou:\n",
    "\n",
    "$z = Ae^{- i \\omega t} = A cos(\\omega t) - i A sen(\\omega t)$"
   ]
  },
  {
   "cell_type": "markdown",
   "id": "92516e39",
   "metadata": {},
   "source": [
    "Deste modo, podemos escrever x(t) como:\n",
    "\n",
    "$x(t) = A sen (\\omega t + \\phi)$\n",
    "\n",
    "Onde $\\phi$ é o ângulo de fase introduzido na expressão para acomodar condições iniciais não homogêneas do movimento. \n",
    "\n",
    "Obs.: -> $x(t) = A sen (\\omega t)$\n",
    "\n",
    "-> $x(t) = A cos(\\omega t + \\phi) $   , onde  $\\phi = \\pi/2$\n",
    "\n",
    "$x(t) = A e^{i(\\omega t + \\phi)} + A e^{-i(\\omega t + \\phi)}$"
   ]
  },
  {
   "cell_type": "code",
   "execution_count": 1,
   "id": "38927c5b",
   "metadata": {},
   "outputs": [],
   "source": [
    "import  numpy as np\n",
    "import matplotlib.pyplot as plt\n",
    "from ipywidgets import interact,interactive,fixed,interact_manual\n",
    "import ipywidgets as widgets"
   ]
  },
  {
   "cell_type": "code",
   "execution_count": 2,
   "id": "4594c9b1",
   "metadata": {},
   "outputs": [],
   "source": [
    "t = np.linspace(0,10,1000)\n",
    "def f(A,w,phi):\n",
    "    plt.plot(t,A*np.sin(w*t+phi))\n",
    "    plt.ylim(-10,10)\n",
    "    plt.grid(True)\n",
    "    plt.xlabel('tempo')\n",
    "    plt.ylabel('amplitude')"
   ]
  },
  {
   "cell_type": "markdown",
   "id": "b1351bac",
   "metadata": {},
   "source": [
    "$x(t) = A sen(\\omega t + \\phi)$"
   ]
  },
  {
   "cell_type": "code",
   "execution_count": 3,
   "id": "19373093",
   "metadata": {},
   "outputs": [
    {
     "data": {
      "application/vnd.jupyter.widget-view+json": {
       "model_id": "e4c3c3870afa476e81fd758da2da2908",
       "version_major": 2,
       "version_minor": 0
      },
      "text/plain": [
       "interactive(children=(IntSlider(value=5, description='A', max=10, min=1), IntSlider(value=5, description='w', …"
      ]
     },
     "metadata": {},
     "output_type": "display_data"
    },
    {
     "data": {
      "text/plain": [
       "<function __main__.f(A, w, phi)>"
      ]
     },
     "execution_count": 3,
     "metadata": {},
     "output_type": "execute_result"
    }
   ],
   "source": [
    "interact(f,A=(1,10),w=(1,10),phi=(0,2*np.pi))"
   ]
  },
  {
   "cell_type": "markdown",
   "id": "3e49651f",
   "metadata": {},
   "source": [
    "[Avançar para o próximo capítulo](Vibs2.ipynb)\n",
    "\n",
    "[Voltar para o menu inicial](LEIAME.ipynb)"
   ]
  }
 ],
 "metadata": {
  "kernelspec": {
   "display_name": "Python 3 (ipykernel)",
   "language": "python",
   "name": "python3"
  },
  "language_info": {
   "codemirror_mode": {
    "name": "ipython",
    "version": 3
   },
   "file_extension": ".py",
   "mimetype": "text/x-python",
   "name": "python",
   "nbconvert_exporter": "python",
   "pygments_lexer": "ipython3",
   "version": "3.11.4"
  }
 },
 "nbformat": 4,
 "nbformat_minor": 5
}
